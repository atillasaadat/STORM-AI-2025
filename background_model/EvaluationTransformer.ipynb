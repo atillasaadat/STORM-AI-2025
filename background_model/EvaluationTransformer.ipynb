{
 "cells": [
  {
   "cell_type": "markdown",
   "id": "15YXsBIWY_Wh",
   "metadata": {},
   "source": [
    "# Install & import libraries 📚"
   ]
  },
  {
   "cell_type": "code",
   "execution_count": 1,
   "id": "UEEuRw7Cxuuy",
   "metadata": {},
   "outputs": [
    {
     "name": "stdout",
     "output_type": "stream",
     "text": [
      "os              : Windows-10-10.0.19045-SP0\n",
      "python          : 3.8.20\n",
      "tsai            : 0.3.9\n",
      "fastai          : 2.7.18\n",
      "fastcore        : 1.7.19\n",
      "sklearn         : 1.2.2\n",
      "torch           : 2.2.2\n",
      "device          : 1 gpu (['NVIDIA GeForce RTX 3090 Ti'])\n",
      "cpu cores       : 16\n",
      "threads per cpu : 1\n",
      "RAM             : 31.75 GB\n",
      "GPU memory      : [23.99] GB\n"
     ]
    }
   ],
   "source": [
    "import sklearn\n",
    "from tsai.basics import *\n",
    "my_setup(sklearn)\n",
    "import numpy as np\n",
    "from scipy.io import loadmat\n",
    "import matplotlib.pyplot as plt\n",
    "from datetime import datetime, date, time\n",
    "import pandas as pd\n",
    "import mat73\n",
    "import os\n",
    "import subprocess\n",
    "import sys\n",
    "import tensorflow as tf\n",
    "import numpy as np\n",
    "from scipy.linalg import pinv\n",
    "from scipy.linalg import logm\n",
    "import pandas as pd\n",
    "\n",
    "from tsai.optuna import *\n",
    "import papermill as pm\n",
    "from tsai.optuna import run_optuna_study\n",
    "from fastcore.basics import *\n",
    "from torch.cuda import amp"
   ]
  },
  {
   "cell_type": "code",
   "execution_count": 2,
   "id": "2c95c7b0-62de-48da-ac06-0a5b3299a24f",
   "metadata": {},
   "outputs": [],
   "source": [
    "# Check for GPUs\n",
    "# Change the CUDA_VISIBLE_DEVICES values to numbers\n",
    "# See (https://forums.fast.ai/t/exception-occured-in-lrfinder-when-calling-event-after-fit/104389/8)\n",
    "if torch.cuda.is_available():\n",
    "    #result = subprocess.check_output(\"nvidia-smi -L | grep -oE '[0-9]+:' | tr -d ':'\", shell=True).decode(\"utf-8\").strip()\n",
    "    #os.environ['CUDA_VISIBLE_DEVICES'] = result\n",
    "    #print(os.environ['CUDA_VISIBLE_DEVICES'])\n",
    "    pass"
   ]
  },
  {
   "cell_type": "code",
   "execution_count": 3,
   "id": "9a620ad3-3a50-46d8-8874-8ecc2adf180b",
   "metadata": {},
   "outputs": [
    {
     "data": {
      "text/plain": [
       "True"
      ]
     },
     "execution_count": 3,
     "metadata": {},
     "output_type": "execute_result"
    }
   ],
   "source": [
    "torch.cuda.is_available()"
   ]
  },
  {
   "cell_type": "markdown",
   "id": "61721f2d-a8fb-485b-a98b-c77897e1e095",
   "metadata": {},
   "source": [
    "# Model and Data Selection"
   ]
  },
  {
   "cell_type": "code",
   "execution_count": 4,
   "id": "77af3910-4600-4544-be79-7e573ad8bc88",
   "metadata": {},
   "outputs": [
    {
     "name": "stdout",
     "output_type": "stream",
     "text": [
      "Please select a data set:\n",
      "1. NRLMSISE\n",
      "2. TIEGCM\n"
     ]
    }
   ],
   "source": [
    "# Define the available options\n",
    "data_options = [\"NRLMSISE\", \"TIEGCM\"]\n",
    "\n",
    "# Ask the user to select a data set\n",
    "print(\"Please select a data set:\")\n",
    "for i, option in enumerate(data_options, 1):\n",
    "    print(f\"{i}. {option}\")\n",
    "data_choice = int(input(\"Enter the number of your choice: \"))\n",
    "data_name = data_options[data_choice - 1]\n",
    "\n",
    "# Use the data_name in your naming path\n",
    "path = f\"data/{data_name}\""
   ]
  },
  {
   "cell_type": "markdown",
   "id": "7658e2b0-4e10-44b8-957d-a2ff264df45c",
   "metadata": {},
   "source": [
    "#### Choose Training, Validation, and Test Density Data Model"
   ]
  },
  {
   "cell_type": "code",
   "execution_count": 5,
   "id": "f68a7d15-e55c-4347-adcd-0b08b978f8dd",
   "metadata": {},
   "outputs": [],
   "source": [
    "# NRLMSISE\n",
    "if data_name == 'NRLMSISE':\n",
    "    df_raw = loadmat('data/Atmospheric Density ROMs/NRLMSISE_1997_2008_ROM_r100.mat')\n",
    "\n",
    "# TIEGCM\n",
    "if data_name == 'TIEGCM':\n",
    "    df_raw = scipy.io.loadmat('data/Atmospheric Density ROMs/TIEGCM_1997_2008_ROM_r100.mat')"
   ]
  },
  {
   "cell_type": "code",
   "execution_count": 6,
   "id": "fb2be20c-04f6-421a-a18f-2c8dc5edbf70",
   "metadata": {},
   "outputs": [],
   "source": [
    "# POD Dimension\n",
    "r=10\n",
    "\n",
    "# Atmospheric Density Snapshots\n",
    "X = df_raw[\"densityDataLogVarROM100\"][:r,:];"
   ]
  },
  {
   "cell_type": "markdown",
   "id": "6663625f-6358-45d1-b182-18776db32367",
   "metadata": {
    "tags": []
   },
   "source": [
    "## Load Scaled Data"
   ]
  },
  {
   "cell_type": "code",
   "execution_count": 7,
   "id": "5dee32de-6072-4e2d-93ab-d97d0279e518",
   "metadata": {},
   "outputs": [],
   "source": [
    "# Parameters\n",
    "freq = '1H'\n",
    "\n",
    "fcst_history = 24*3*6 # 1/freq*18 (18 days) 432 steps in the past\n",
    "fcst_horizon = 24*3  # 1/freq*3 (3 days) 72 steps in the future"
   ]
  },
  {
   "cell_type": "markdown",
   "id": "b4523888-9997-4975-9811-b3ffeff14817",
   "metadata": {},
   "source": [
    "#### Load Dataset and Splits"
   ]
  },
  {
   "cell_type": "code",
   "execution_count": 8,
   "id": "b4fb4cf4-4c8d-4f50-b0ad-fa138ac34c03",
   "metadata": {},
   "outputs": [
    {
     "name": "stdout",
     "output_type": "stream",
     "text": [
      "[Pipeline] ............ (step 1 of 1) Processing scaler, total=   0.4s\n",
      "[Pipeline] ............ (step 1 of 1) Processing scaler, total=   0.2s\n",
      "[Pipeline] ............ (step 1 of 1) Processing scaler, total=   0.1s\n"
     ]
    }
   ],
   "source": [
    "# Load dataframes\n",
    "low_df = load_object('training/training_data/low_df_'+path+'.pkl')\n",
    "low_df = low_df.reset_index(drop=True)\n",
    "\n",
    "medium_df = load_object('training/training_data/medium_df_'+path+'.pkl')\n",
    "medium_df = medium_df.reset_index(drop=True)\n",
    "\n",
    "high_df = load_object('training/training_data/high_df_'+path+'.pkl')\n",
    "high_df = high_df.reset_index(drop=True)\n",
    "\n",
    "# Load splits\n",
    "low_splits = load_object('training/splits/splits_lowSW_'+path+'.pkl')\n",
    "medium_splits = load_object('training/splits/splits_mediumSW_'+path+'.pkl')\n",
    "high_splits = load_object('training/splits/splits_highSW_'+path+'.pkl')\n",
    "\n",
    "# Low SW\n",
    "train_split = low_splits[0]\n",
    "exp_pipe = load_object('training/exp_pipe/exp_pipe_lowSW_'+path+'.pkl')\n",
    "low_df_scaled = exp_pipe.fit_transform(low_df, scaler__idxs=train_split)\n",
    "\n",
    "# Medium SW\n",
    "train_split = medium_splits[0]\n",
    "exp_pipe = load_object('training/exp_pipe/exp_pipe_mediumSW_'+path+'.pkl')\n",
    "medium_df_scaled = exp_pipe.fit_transform(medium_df, scaler__idxs=train_split)\n",
    "\n",
    "# High SW\n",
    "train_split = high_splits[0]\n",
    "exp_pipe = load_object('training/exp_pipe/exp_pipe_highSW_'+path+'.pkl')\n",
    "high_df_scaled = exp_pipe.fit_transform(high_df, scaler__idxs=train_split)"
   ]
  },
  {
   "cell_type": "markdown",
   "id": "3c8aab2e-b74f-4f31-bad8-6c91915d54e5",
   "metadata": {},
   "source": [
    "### Data"
   ]
  },
  {
   "cell_type": "code",
   "execution_count": 9,
   "id": "4f8e769f-b065-4502-a5f1-382b2eb22e1a",
   "metadata": {},
   "outputs": [
    {
     "name": "stdout",
     "output_type": "stream",
     "text": [
      "Please select a data set:\n",
      "1. low space weather\n",
      "2. medium space weather\n",
      "3. high space weather\n"
     ]
    }
   ],
   "source": [
    "# Define the available options\n",
    "data_options = [\"low space weather\", \"medium space weather\", \"high space weather\"]\n",
    "\n",
    "# Ask the user to select a data set\n",
    "print(\"Please select a data set:\")\n",
    "for i, option in enumerate(data_options, 1):\n",
    "    print(f\"{i}. {option}\")\n",
    "data_choice = int(input(\"Enter the number of your choice: \"))\n",
    "training_name = data_options[data_choice - 1]"
   ]
  },
  {
   "cell_type": "code",
   "execution_count": 10,
   "id": "b7ac7d00-fbb1-4722-a394-209d92cd6b96",
   "metadata": {},
   "outputs": [],
   "source": [
    "if training_name == 'low space weather':\n",
    "    df = low_df\n",
    "    splits = low_splits\n",
    "elif training_name == 'medium space weather':\n",
    "    df = medium_df\n",
    "    splits = medium_splits\n",
    "elif training_name == 'high space weather':\n",
    "    df = high_df\n",
    "    splits = high_splits\n",
    "else:\n",
    "    print(\"Name not recognized\")\n",
    "    \n",
    "x_vars = df.columns[1:]\n",
    "y_vars = df.columns[1:]"
   ]
  },
  {
   "cell_type": "code",
   "execution_count": 21,
   "id": "598091ce-a243-49df-851b-387eceaa2d72",
   "metadata": {},
   "outputs": [],
   "source": [
    "X, y = prepare_forecasting_data(df, fcst_history=fcst_history, fcst_horizon=fcst_horizon, x_vars=x_vars, y_vars=y_vars)\n",
    "X.shape, y.shape\n",
    "X = torch.FloatTensor(X)\n",
    "y = torch.FloatTensor(y)"
   ]
  },
  {
   "cell_type": "markdown",
   "id": "cab79fef-db05-40e0-8493-dbdfbee46691",
   "metadata": {},
   "source": [
    "# Evaluate model 🕵️‍♀️"
   ]
  },
  {
   "cell_type": "code",
   "execution_count": 12,
   "id": "f3b23bf6-4764-4c8b-b791-27e24c25853f",
   "metadata": {},
   "outputs": [
    {
     "name": "stdout",
     "output_type": "stream",
     "text": [
      "models/patchTST_NRLMSISE_low space weather.pt\n"
     ]
    },
    {
     "data": {
      "text/html": [],
      "text/plain": [
       "<IPython.core.display.HTML object>"
      ]
     },
     "metadata": {},
     "output_type": "display_data"
    },
    {
     "name": "stdout",
     "output_type": "stream",
     "text": [
      "y_test_preds.shape: (20909, 51, 72)\n"
     ]
    }
   ],
   "source": [
    "from tsai.inference import load_learner\n",
    "from sklearn.metrics import mean_squared_error, mean_absolute_error\n",
    "\n",
    "model_file = 'models/patchTST_'+data_name+'_'+training_name+'.pt'\n",
    "print(model_file)\n",
    "learn = load_learner(model_file)\n",
    "\n",
    "y_test_preds, *_ = learn.get_X_preds(X[splits[2]])\n",
    "y_test_preds = to_np(y_test_preds)\n",
    "print(f\"y_test_preds.shape: {y_test_preds.shape}\")"
   ]
  },
  {
   "cell_type": "code",
   "execution_count": 13,
   "id": "76ba91a4-869b-40aa-b27e-23d69914843b",
   "metadata": {},
   "outputs": [
    {
     "data": {
      "text/html": [
       "<div>\n",
       "<style scoped>\n",
       "    .dataframe tbody tr th:only-of-type {\n",
       "        vertical-align: middle;\n",
       "    }\n",
       "\n",
       "    .dataframe tbody tr th {\n",
       "        vertical-align: top;\n",
       "    }\n",
       "\n",
       "    .dataframe thead th {\n",
       "        text-align: right;\n",
       "    }\n",
       "</style>\n",
       "<table border=\"1\" class=\"dataframe\">\n",
       "  <thead>\n",
       "    <tr style=\"text-align: right;\">\n",
       "      <th></th>\n",
       "      <th>mse</th>\n",
       "      <th>mae</th>\n",
       "    </tr>\n",
       "  </thead>\n",
       "  <tbody>\n",
       "    <tr>\n",
       "      <th>test</th>\n",
       "      <td>0.413238</td>\n",
       "      <td>0.307532</td>\n",
       "    </tr>\n",
       "  </tbody>\n",
       "</table>\n",
       "</div>"
      ],
      "text/plain": [
       "           mse       mae\n",
       "test  0.413238  0.307532"
      ]
     },
     "execution_count": 13,
     "metadata": {},
     "output_type": "execute_result"
    }
   ],
   "source": [
    "# Density and SW prediction\n",
    "y_test = y[splits[2]]\n",
    "results_df = pd.DataFrame(columns=[\"mse\", \"mae\"])\n",
    "results_df.loc[\"test\", \"mse\"] = mean_squared_error(y_test.flatten(), y_test_preds.flatten())\n",
    "results_df.loc[\"test\", \"mae\"] = mean_absolute_error(y_test.flatten(), y_test_preds.flatten())\n",
    "results_df"
   ]
  },
  {
   "cell_type": "code",
   "execution_count": 14,
   "id": "eb339f4e-7425-4fa0-b2b7-a10e4d363d8a",
   "metadata": {},
   "outputs": [],
   "source": [
    "# Atmospheric density only\n",
    "y_test_preds_density = y_test_preds[:,:10,:]\n",
    "y_test_density = y[splits[2]][:,:10,:]"
   ]
  },
  {
   "cell_type": "code",
   "execution_count": 15,
   "id": "617b454e-3271-4ea0-86aa-189fd62d81c3",
   "metadata": {},
   "outputs": [
    {
     "data": {
      "text/html": [
       "<div>\n",
       "<style scoped>\n",
       "    .dataframe tbody tr th:only-of-type {\n",
       "        vertical-align: middle;\n",
       "    }\n",
       "\n",
       "    .dataframe tbody tr th {\n",
       "        vertical-align: top;\n",
       "    }\n",
       "\n",
       "    .dataframe thead th {\n",
       "        text-align: right;\n",
       "    }\n",
       "</style>\n",
       "<table border=\"1\" class=\"dataframe\">\n",
       "  <thead>\n",
       "    <tr style=\"text-align: right;\">\n",
       "      <th></th>\n",
       "      <th>mse</th>\n",
       "      <th>mae</th>\n",
       "    </tr>\n",
       "  </thead>\n",
       "  <tbody>\n",
       "    <tr>\n",
       "      <th>test</th>\n",
       "      <td>0.693043</td>\n",
       "      <td>0.578272</td>\n",
       "    </tr>\n",
       "  </tbody>\n",
       "</table>\n",
       "</div>"
      ],
      "text/plain": [
       "           mse       mae\n",
       "test  0.693043  0.578272"
      ]
     },
     "execution_count": 15,
     "metadata": {},
     "output_type": "execute_result"
    }
   ],
   "source": [
    "results_df = pd.DataFrame(columns=[\"mse\", \"mae\"])\n",
    "results_df.loc[\"test\", \"mse\"] = mean_squared_error(y_test_density.flatten(), y_test_preds_density.flatten())\n",
    "results_df.loc[\"test\", \"mae\"] = mean_absolute_error(y_test_density.flatten(), y_test_preds_density.flatten())\n",
    "results_df"
   ]
  },
  {
   "cell_type": "code",
   "execution_count": 16,
   "id": "09233d46-3f4f-4b4d-8795-82103bce865e",
   "metadata": {},
   "outputs": [
    {
     "name": "stdout",
     "output_type": "stream",
     "text": [
      "2006-07-23 19:00:00\n"
     ]
    }
   ],
   "source": [
    "df['index'] = range(len(df))\n",
    "\n",
    "# Fetch the first test dataset date from the DataFrame\n",
    "start_date = df.iloc[splits[2][0]]['date']\n",
    "print(start_date)"
   ]
  },
  {
   "cell_type": "code",
   "execution_count": 17,
   "id": "e8751850-3a42-4c1a-9703-31490831c108",
   "metadata": {},
   "outputs": [
    {
     "name": "stdout",
     "output_type": "stream",
     "text": [
      "Forecast start index: 83779\n",
      "Sequence start index: 83347\n"
     ]
    }
   ],
   "source": [
    "import pandas as pd\n",
    "\n",
    "# Calculate the forecast start index (number of hours from start date to forecast start date)\n",
    "forecast_start_index = splits[2][0]\n",
    "print(f\"Forecast start index: {forecast_start_index}\")\n",
    "\n",
    "# History and horizon window sizes\n",
    "history_window = 24*3*6\n",
    "horizon_window = 24*3\n",
    "\n",
    "# Calculate the sequence start index by subtracting the history window\n",
    "sequence_start_index = forecast_start_index - history_window\n",
    "print(f\"Sequence start index: {sequence_start_index}\")"
   ]
  },
  {
   "cell_type": "code",
   "execution_count": 18,
   "id": "54204d3e-1461-4be2-9359-106343a8f71d",
   "metadata": {},
   "outputs": [
    {
     "data": {
      "text/plain": [
       "(20909, 51, 72)"
      ]
     },
     "execution_count": 18,
     "metadata": {},
     "output_type": "execute_result"
    }
   ],
   "source": [
    "# (number of predictions, first 10 are atmospheric density modes and remaining 41 are space weather indices, forecast horizon)\n",
    "y_test_preds.shape"
   ]
  },
  {
   "cell_type": "code",
   "execution_count": 19,
   "id": "09056a07-f4c3-4ea2-855a-59305d7ffefa",
   "metadata": {},
   "outputs": [],
   "source": [
    "mse_list = []\n",
    "density_mode1_list = []\n",
    "i = 0 # day to start forecast\n",
    "\n",
    "# Loop over 72 index / 3 day predictions\n",
    "for j in range(np.shape(y_test_preds)[2]):\n",
    "    # Recore the MSE for only the atmospheric density modes\n",
    "    mse_list.append(mean_squared_error(y_test_preds[i, :10, j].flatten(), y_test[i, :10, j].flatten()))\n",
    "    density_mode1_list.append(float(y_test_preds[i, 0, j].flatten()[0]))"
   ]
  },
  {
   "cell_type": "code",
   "execution_count": 20,
   "id": "8763b30d-ff3b-4c6a-94ce-aeffa143656a",
   "metadata": {},
   "outputs": [
    {
     "data": {
      "image/png": "[encoded data removed]",
      "text/plain": [
       "<Figure size 1200x600 with 3 Axes>"
      ]
     },
     "metadata": {},
     "output_type": "display_data"
    }
   ],
   "source": [
    "import numpy as np\n",
    "import matplotlib.pyplot as plt\n",
    "import pandas as pd\n",
    "\n",
    "import matplotlib.dates as mdates\n",
    "\n",
    "# Create a date range for the x-axis\n",
    "date_range = pd.date_range(start=start_date, periods=fcst_horizon, freq='H')\n",
    "\n",
    "length = np.shape(y_test_preds)[2]\n",
    "\n",
    "# Create the plot\n",
    "fig, ax1 = plt.subplots(figsize=(12, 6))\n",
    "\n",
    "# Plot the density data\n",
    "ax1.plot(date_range[:length], density_mode1_list[:length], marker='o', markersize=4, linestyle='-', linewidth=1.5, color='b')\n",
    "ax1.set_xlabel('Date')\n",
    "ax1.set_ylabel('First Reduced Order Spatial Density Mode', color='b')\n",
    "ax1.tick_params(axis='y', labelcolor='b')\n",
    "\n",
    "# Plot the MSE data\n",
    "ax1.plot(date_range[:length], mse_list[:length], marker='o', markersize=4, linestyle='-', linewidth=1.5, color='r',label='Mean-Squared-Error')\n",
    "\n",
    "\n",
    "# Formatting the x-axis\n",
    "ax1.xaxis.set_major_locator(mdates.DayLocator())  # Major ticks every day\n",
    "ax1.xaxis.set_minor_locator(mdates.HourLocator(interval=6))  # Minor ticks every 6 hours\n",
    "ax1.xaxis.set_major_formatter(mdates.DateFormatter('%Y-%m-%d'))  # Date format for major ticks\n",
    "fig.autofmt_xdate()  # Auto-format the x-axis labels for better readability\n",
    "\n",
    "# Create twin axis for F10a\n",
    "ax2 = ax1.twinx()\n",
    "ax2.set_ylabel('F10a', color='tab:orange')\n",
    "ax2.plot(date_range[:length], df['F10a'].iloc[splits[2][i:fcst_horizon+i]], linestyle='-.', color='tab:orange', alpha=0.4)\n",
    "ax2.tick_params(axis='y', labelcolor='tab:orange')\n",
    "\n",
    "# Create another twin axis for Kp\n",
    "ax3 = ax1.twinx()\n",
    "ax3.spines['right'].set_position(('outward', 60))  # Move the third y-axis to the right\n",
    "ax3.set_ylabel('ap', color='tab:brown')\n",
    "ax3.plot(date_range[:length], df['ap1'].iloc[splits[2][i:fcst_horizon+i]], linestyle='-.', color='tab:brown', alpha=0.4)\n",
    "ax3.tick_params(axis='y', labelcolor='tab:brown')\n",
    "\n",
    "# Adding title and grid\n",
    "plt.title('3 Day Transformer Forecaster Propagation', fontsize=20)\n",
    "plt.grid(True, linestyle='--', alpha=0.7)\n",
    "\n",
    "# Place the legend outside the plot\n",
    "ax1.legend(loc='upper left', fontsize=8)\n",
    "\n",
    "# Increase spacing between subplots for legend\n",
    "plt.subplots_adjust(right=0.75)\n"
   ]
  }
 ],
 "metadata": {
  "kernelspec": {
   "display_name": "stormai",
   "language": "python",
   "name": "python3"
  },
  "language_info": {
   "codemirror_mode": {
    "name": "ipython",
    "version": 3
   },
   "file_extension": ".py",
   "mimetype": "text/x-python",
   "name": "python",
   "nbconvert_exporter": "python",
   "pygments_lexer": "ipython3",
   "version": "3.8.20"
  },
  "latex_envs": {
   "LaTeX_envs_menu_present": true,
   "autoclose": false,
   "autocomplete": true,
   "bibliofile": "biblio.bib",
   "cite_by": "apalike",
   "current_citInitial": 1,
   "eqLabelWithNumbers": true,
   "eqNumInitial": 1,
   "hotkeys": {
    "equation": "Ctrl-E",
    "itemize": "Ctrl-I"
   },
   "labels_anchors": false,
   "latex_user_defs": false,
   "report_style_numbering": false,
   "user_envs_cfg": false
  },
  "toc": {
   "base_numbering": 1,
   "nav_menu": {},
   "number_sections": true,
   "sideBar": true,
   "skip_h1_title": false,
   "title_cell": "Table of Contents",
   "title_sidebar": "Contents",
   "toc_cell": false,
   "toc_position": {},
   "toc_section_display": true,
   "toc_window_display": false
  }
 },
 "nbformat": 4,
 "nbformat_minor": 5
}
